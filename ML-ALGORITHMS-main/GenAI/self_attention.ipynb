{
 "cells": [
  {
   "cell_type": "code",
   "execution_count": 1,
   "metadata": {},
   "outputs": [],
   "source": [
    "from transformers import BertTokenizer, BertModel\n",
    "import torch\n",
    "\n"
   ]
  },
  {
   "cell_type": "code",
   "execution_count": 2,
   "metadata": {},
   "outputs": [
    {
     "name": "stderr",
     "output_type": "stream",
     "text": [
      "c:\\Users\\hp\\AppData\\Local\\Programs\\Python\\Python312\\Lib\\site-packages\\transformers\\tokenization_utils_base.py:1601: FutureWarning: `clean_up_tokenization_spaces` was not set. It will be set to `True` by default. This behavior will be depracted in transformers v4.45, and will be then set to `False` by default. For more details check this issue: https://github.com/huggingface/transformers/issues/31884\n",
      "  warnings.warn(\n"
     ]
    },
    {
     "data": {
      "application/vnd.jupyter.widget-view+json": {
       "model_id": "35c4b1feaafc4b27bffc9954a7f647ca",
       "version_major": 2,
       "version_minor": 0
      },
      "text/plain": [
       "model.safetensors:   0%|          | 0.00/440M [00:00<?, ?B/s]"
      ]
     },
     "metadata": {},
     "output_type": "display_data"
    },
    {
     "name": "stderr",
     "output_type": "stream",
     "text": [
      "c:\\Users\\hp\\AppData\\Local\\Programs\\Python\\Python312\\Lib\\site-packages\\huggingface_hub\\file_download.py:159: UserWarning: `huggingface_hub` cache-system uses symlinks by default to efficiently store duplicated files but your machine does not support them in C:\\Users\\hp\\.cache\\huggingface\\hub\\models--bert-base-uncased. Caching files will still work but in a degraded version that might require more space on your disk. This warning can be disabled by setting the `HF_HUB_DISABLE_SYMLINKS_WARNING` environment variable. For more details, see https://huggingface.co/docs/huggingface_hub/how-to-cache#limitations.\n",
      "To support symlinks on Windows, you either need to activate Developer Mode or to run Python as an administrator. In order to see activate developer mode, see this article: https://docs.microsoft.com/en-us/windows/apps/get-started/enable-your-device-for-development\n",
      "  warnings.warn(message)\n"
     ]
    }
   ],
   "source": [
    "# Load BERT tokenizer and model\n",
    "tokenizer = BertTokenizer.from_pretrained('bert-base-uncased')\n",
    "model = BertModel.from_pretrained('bert-base-uncased', output_attentions=True)\n",
    "\n"
   ]
  },
  {
   "cell_type": "code",
   "execution_count": 5,
   "metadata": {},
   "outputs": [
    {
     "data": {
      "text/plain": [
       "{'input_ids': tensor([[  101,  1996,  4937,  2938,  2006,  1996, 13523,  1012,   102]]), 'token_type_ids': tensor([[0, 0, 0, 0, 0, 0, 0, 0, 0]]), 'attention_mask': tensor([[1, 1, 1, 1, 1, 1, 1, 1, 1]])}"
      ]
     },
     "execution_count": 5,
     "metadata": {},
     "output_type": "execute_result"
    }
   ],
   "source": [
    "# Example sentence\n",
    "sentence = \"The cat sat on the mat.\"\n",
    "\n",
    "# Tokenize the sentence\n",
    "inputs = tokenizer(sentence, return_tensors=\"pt\")\n",
    "inputs\n"
   ]
  },
  {
   "cell_type": "code",
   "execution_count": 4,
   "metadata": {},
   "outputs": [
    {
     "name": "stderr",
     "output_type": "stream",
     "text": [
      "BertSdpaSelfAttention is used but `torch.nn.functional.scaled_dot_product_attention` does not support non-absolute `position_embedding_type` or `output_attentions=True` or `head_mask`. Falling back to the manual attention implementation, but specifying the manual implementation will be required from Transformers version v5.0.0 onwards. This warning can be removed using the argument `attn_implementation=\"eager\"` when loading the model.\n"
     ]
    },
    {
     "name": "stdout",
     "output_type": "stream",
     "text": [
      "Attention scores from one head in the last layer:\n",
      "tensor([[3.5608e-01, 2.4042e-02, 8.3100e-02, 1.9543e-02, 6.1316e-03, 7.0095e-03,\n",
      "         1.7313e-02, 1.3409e-02, 4.7338e-01],\n",
      "        [3.1967e-02, 1.0764e-02, 1.9130e-02, 3.9774e-03, 1.9196e-03, 2.8282e-03,\n",
      "         1.7971e-03, 5.2728e-03, 9.2234e-01],\n",
      "        [1.0303e-02, 4.8757e-03, 6.7663e-03, 1.4583e-03, 6.3039e-04, 1.0992e-03,\n",
      "         5.3460e-04, 1.6512e-03, 9.7268e-01],\n",
      "        [9.5511e-03, 3.0934e-03, 4.6114e-03, 8.2983e-04, 2.7894e-04, 7.2489e-04,\n",
      "         3.1500e-04, 7.8325e-04, 9.7981e-01],\n",
      "        [1.6255e-02, 2.6974e-03, 7.4830e-03, 1.4626e-03, 5.4057e-04, 1.2126e-03,\n",
      "         7.8593e-04, 1.4949e-03, 9.6807e-01],\n",
      "        [3.4809e-02, 1.3575e-02, 2.3969e-02, 6.7045e-03, 2.5244e-03, 4.5064e-03,\n",
      "         3.8717e-03, 3.2624e-03, 9.0678e-01],\n",
      "        [1.2389e-02, 6.0170e-03, 6.3526e-03, 3.0711e-03, 2.0116e-03, 2.8548e-03,\n",
      "         3.8149e-03, 1.4862e-03, 9.6200e-01],\n",
      "        [9.6994e-02, 7.8821e-02, 3.2429e-02, 1.6873e-02, 8.3045e-03, 1.8399e-02,\n",
      "         4.6765e-03, 3.0105e-02, 7.1340e-01],\n",
      "        [1.2018e-02, 1.0514e-02, 6.7707e-03, 3.9313e-03, 1.7829e-03, 2.9387e-03,\n",
      "         1.4300e-03, 3.0231e-03, 9.5759e-01]])\n"
     ]
    }
   ],
   "source": [
    "# Get the outputs (including attention)\n",
    "with torch.no_grad():\n",
    "    outputs = model(**inputs)\n",
    "\n",
    "# Retrieve attention scores\n",
    "attentions = outputs.attentions\n",
    "\n",
    "# Shape of attentions: (layers, batch_size, num_heads, seq_len, seq_len)\n",
    "print(\"Attention scores from one head in the last layer:\")\n",
    "print(attentions[-1][0][0])\n"
   ]
  },
  {
   "cell_type": "code",
   "execution_count": null,
   "metadata": {},
   "outputs": [],
   "source": []
  }
 ],
 "metadata": {
  "kernelspec": {
   "display_name": "Python 3",
   "language": "python",
   "name": "python3"
  },
  "language_info": {
   "codemirror_mode": {
    "name": "ipython",
    "version": 3
   },
   "file_extension": ".py",
   "mimetype": "text/x-python",
   "name": "python",
   "nbconvert_exporter": "python",
   "pygments_lexer": "ipython3",
   "version": "3.12.3"
  }
 },
 "nbformat": 4,
 "nbformat_minor": 2
}
